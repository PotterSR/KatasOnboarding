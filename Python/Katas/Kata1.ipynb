{
 "cells": [
  {
   "cell_type": "markdown",
   "metadata": {},
   "source": [
    "## Primer Programa"
   ]
  },
  {
   "cell_type": "code",
   "execution_count": 8,
   "metadata": {},
   "outputs": [
    {
     "name": "stdout",
     "output_type": "stream",
     "text": [
      "La fecha de hoy es: 2022-02-05 \n"
     ]
    }
   ],
   "source": [
    "from datetime import date\n",
    "\n",
    "date = str(date.today())\n",
    "\n",
    "print('La fecha de hoy es: {} '.format(date))"
   ]
  },
  {
   "cell_type": "markdown",
   "metadata": {},
   "source": [
    "## Convertidor de Unidades"
   ]
  },
  {
   "cell_type": "code",
   "execution_count": 9,
   "metadata": {},
   "outputs": [
    {
     "name": "stdout",
     "output_type": "stream",
     "text": [
      "Introduza los parsecs que desea convertir: 11\n",
      "11 parsecs son 35.877159999999996 años luz\n"
     ]
    }
   ],
   "source": [
    "parsec = int(input('Introduza los parsecs que desea convertir: '))\n",
    "\n",
    "añosluz = 3.26156*parsec\n",
    "\n",
    "print('{} parsecs son {} años luz'.format(str(parsec), str(añosluz)))"
   ]
  }
 ],
 "metadata": {
  "kernelspec": {
   "display_name": "Python 3",
   "language": "python",
   "name": "python3"
  },
  "language_info": {
   "codemirror_mode": {
    "name": "ipython",
    "version": 3
   },
   "file_extension": ".py",
   "mimetype": "text/x-python",
   "name": "python",
   "nbconvert_exporter": "python",
   "pygments_lexer": "ipython3",
   "version": "3.8.5"
  }
 },
 "nbformat": 4,
 "nbformat_minor": 4
}
