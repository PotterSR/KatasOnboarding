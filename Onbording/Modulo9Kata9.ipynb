{
 "cells": [
  {
   "cell_type": "markdown",
   "metadata": {},
   "source": [
    "### Ejercicio 1"
   ]
  },
  {
   "cell_type": "code",
   "execution_count": 9,
   "metadata": {},
   "outputs": [],
   "source": [
    "def reporte(tanque1, tanque2, tanque3):\n",
    "    promedio = (tanque1 + tanque2 + tanque3)/3\n",
    "    return f\"\"\"\n",
    "    ¡Reporte de Combustible! \n",
    "    El promedio de combustible es: {round(promedio,3)}\n",
    "    Primer tanque: {tanque1}%\n",
    "    Segundo tanque: {tanque2}%\n",
    "    Tercer taque: {tanque3}%    \n",
    "    \"\"\""
   ]
  },
  {
   "cell_type": "code",
   "execution_count": 10,
   "metadata": {},
   "outputs": [
    {
     "name": "stdout",
     "output_type": "stream",
     "text": [
      "\n",
      "    ¡Reporte de Combustible! \n",
      "    El promedio de combustible es: 81.667\n",
      "    Primer tanque: 85%\n",
      "    Segundo tanque: 70%\n",
      "    Tercer taque: 90%    \n",
      "    \n"
     ]
    }
   ],
   "source": [
    "print(reporte(85,70,90))"
   ]
  },
  {
   "cell_type": "code",
   "execution_count": 11,
   "metadata": {},
   "outputs": [],
   "source": [
    "#Promedio: Entrada de datos en una lista. \n",
    "\n",
    "def promedio (valores):\n",
    "    average = sum(valores)/len(valores)\n",
    "    return average\n",
    "\n"
   ]
  },
  {
   "cell_type": "code",
   "execution_count": 12,
   "metadata": {},
   "outputs": [
    {
     "data": {
      "text/plain": [
       "82.0"
      ]
     },
     "execution_count": 12,
     "metadata": {},
     "output_type": "execute_result"
    }
   ],
   "source": [
    "promedio([80, 85, 81]) "
   ]
  },
  {
   "cell_type": "code",
   "execution_count": 14,
   "metadata": {},
   "outputs": [],
   "source": [
    "#Actualización \n",
    "def reporte(tanque1, tanque2, tanque3):\n",
    "    return f\"\"\"\n",
    "    ¡Reporte de Combustible! \n",
    "    El promedio de combustible es: {promedio([tanque1, tanque2, tanque3])}\n",
    "    Primer tanque: {tanque1}%\n",
    "    Segundo tanque: {tanque2}%\n",
    "    Tercer taque: {tanque3}%\"\"\"    "
   ]
  },
  {
   "cell_type": "code",
   "execution_count": 15,
   "metadata": {},
   "outputs": [
    {
     "name": "stdout",
     "output_type": "stream",
     "text": [
      "\n",
      "    ¡Reporte de Combustible! \n",
      "    El promedio de combustible es: 78.0\n",
      "    Primer tanque: 88%\n",
      "    Segundo tanque: 76%\n",
      "    Tercer taque: 70%\n"
     ]
    }
   ],
   "source": [
    "print(reporte(88, 76, 70))"
   ]
  },
  {
   "cell_type": "markdown",
   "metadata": {},
   "source": [
    "###  Ejercicio 2: Trabajo con argumentos de palabra clave "
   ]
  },
  {
   "cell_type": "code",
   "execution_count": 17,
   "metadata": {},
   "outputs": [],
   "source": [
    "# Función con un informe preciso de la misión. Considera hora de prelanzamiento, tiempo de vuelo, destino, tanque externo y tanque interno\n",
    "\n",
    "def reporte_vuelo(tiempo_pre, tiempo_vuelo, destino, tanque_extrerno, tanque_interno):\n",
    "    return f\"\"\"\n",
    "    La misión va a {destino}.\n",
    "    Tiempo total de vuelo = {tiempo_vuelo + tiempo_pre}\n",
    "    Combustible total = {tanque_extrerno + tanque_interno}\n",
    "    \"\"\"\n"
   ]
  },
  {
   "cell_type": "code",
   "execution_count": 18,
   "metadata": {},
   "outputs": [
    {
     "name": "stdout",
     "output_type": "stream",
     "text": [
      "\n",
      "    La misión va a Moon.\n",
      "    Tiempo total de vuelo = 65\n",
      "    Combustible total = 500000\n",
      "    \n"
     ]
    }
   ],
   "source": [
    "print(reporte_vuelo(14, 51, \"Moon\", 200000, 300000))"
   ]
  },
  {
   "cell_type": "code",
   "execution_count": 23,
   "metadata": {},
   "outputs": [],
   "source": [
    "def reporte_vuelo2(destino, *minutes, **reservas_combustible):\n",
    "    return f\"\"\"\n",
    "    Misión a {destino}\n",
    "    Tiempo total de vuelo {sum(minutes)} minutos\n",
    "    Combustible total {sum(reservas_combustible.values())} litros\n",
    "    \"\"\""
   ]
  },
  {
   "cell_type": "code",
   "execution_count": 24,
   "metadata": {},
   "outputs": [
    {
     "name": "stdout",
     "output_type": "stream",
     "text": [
      "\n",
      "    Misión a Moon\n",
      "    Tiempo total de vuelo 76 minutos\n",
      "    Combustible total 500000 litros\n",
      "    \n"
     ]
    }
   ],
   "source": [
    "print(reporte_vuelo2(\"Moon\", 10, 15, 51, main=300000, external=200000))\n"
   ]
  },
  {
   "cell_type": "code",
   "execution_count": 30,
   "metadata": {},
   "outputs": [],
   "source": [
    "def reporte_vuelo3(destino, *minutes, **reservas_combustible):\n",
    "    reporte = f\"\"\"\n",
    "    Misión a {destino}\n",
    "    Tiempo total de vuelo {sum(minutes)} minutos\n",
    "    Combustible total {sum(reservas_combustible.values())} litros\n",
    "    \"\"\"\n",
    "    for nombre, capacidad in reservas_combustible.items():\n",
    "        reporte += f\"{nombre} tanque tiene {capacidad}\\n\"\n",
    "\n",
    "    return reporte\n"
   ]
  },
  {
   "cell_type": "code",
   "execution_count": 31,
   "metadata": {},
   "outputs": [
    {
     "name": "stdout",
     "output_type": "stream",
     "text": [
      "\n",
      "    Misión a Moon\n",
      "    Tiempo total de vuelo 74 minutos\n",
      "    Combustible total 500000 litros\n",
      "    main tanque tiene 300000\n",
      "external tanque tiene 200000\n",
      "\n"
     ]
    }
   ],
   "source": [
    "print(reporte_vuelo3(\"Moon\", 8, 11, 55, main=300000, external=200000))"
   ]
  }
 ],
 "metadata": {
  "interpreter": {
   "hash": "17f94d3315d6c5ee86cc844ccc448e920d2832751813a55ed687781fb02c9fbc"
  },
  "kernelspec": {
   "display_name": "Python 3.8.5 ('base')",
   "language": "python",
   "name": "python3"
  },
  "language_info": {
   "codemirror_mode": {
    "name": "ipython",
    "version": 3
   },
   "file_extension": ".py",
   "mimetype": "text/x-python",
   "name": "python",
   "nbconvert_exporter": "python",
   "pygments_lexer": "ipython3",
   "version": "3.8.5"
  },
  "orig_nbformat": 4
 },
 "nbformat": 4,
 "nbformat_minor": 2
}
