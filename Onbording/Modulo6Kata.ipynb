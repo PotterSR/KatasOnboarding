{
 "cells": [
  {
   "cell_type": "markdown",
   "metadata": {},
   "source": [
    "# Ejercicio 1: Crea y usa listas en python"
   ]
  },
  {
   "cell_type": "code",
   "execution_count": 5,
   "metadata": {},
   "outputs": [
    {
     "name": "stdout",
     "output_type": "stream",
     "text": [
      "El numero de planetas que existen es 8\n"
     ]
    }
   ],
   "source": [
    "planetas= ['Mercurio', 'Venus', 'Tierra', 'Marte', 'Jupiter', 'Saturno', 'Urano', 'Neptuno']\n",
    "\n",
    "print(f'El numero de planetas que existen es {len(planetas)}')"
   ]
  },
  {
   "cell_type": "code",
   "execution_count": 6,
   "metadata": {},
   "outputs": [
    {
     "name": "stdout",
     "output_type": "stream",
     "text": [
      "El número de planetas que existen es 9\n",
      "El último planeta es Plutón\n"
     ]
    }
   ],
   "source": [
    "planetas.append('Plutón')\n",
    "\n",
    "print(f'El número de planetas que existen es {len(planetas)}')\n",
    "print(f'El último planeta es {planetas[-1]}')"
   ]
  },
  {
   "cell_type": "markdown",
   "metadata": {},
   "source": [
    "# Ejercicio 2: Trabajando con datos de una lista. "
   ]
  },
  {
   "cell_type": "code",
   "execution_count": 8,
   "metadata": {},
   "outputs": [],
   "source": [
    "planets = ['Mercury', 'Venus', 'Earth', 'Mars', 'Jupiter', 'Saturn', 'Neptune']"
   ]
  },
  {
   "cell_type": "code",
   "execution_count": 19,
   "metadata": {},
   "outputs": [],
   "source": [
    "planeta = input('Ingrese con un planeta de nuestro sistema solar: ').title()\n"
   ]
  },
  {
   "cell_type": "code",
   "execution_count": 20,
   "metadata": {},
   "outputs": [],
   "source": [
    "position_planeta = planets.index(planeta) \n"
   ]
  },
  {
   "cell_type": "code",
   "execution_count": 27,
   "metadata": {},
   "outputs": [
    {
     "name": "stdout",
     "output_type": "stream",
     "text": [
      "Los planetas más acercados al sol que Saturn\n"
     ]
    },
    {
     "data": {
      "text/plain": [
       "['Mercury', 'Venus', 'Earth', 'Mars', 'Jupiter']"
      ]
     },
     "execution_count": 27,
     "metadata": {},
     "output_type": "execute_result"
    }
   ],
   "source": [
    "#Mostrar planeta más cercarno al sol que el que usuario ingreso\n",
    "print('Los planetas más acercados al sol que {}'.format(planeta))\n",
    "planets[:position_planeta]"
   ]
  },
  {
   "cell_type": "code",
   "execution_count": 28,
   "metadata": {},
   "outputs": [
    {
     "name": "stdout",
     "output_type": "stream",
     "text": [
      "Los planetas más alejados del sol que Saturn\n",
      "['Neptune']\n"
     ]
    }
   ],
   "source": [
    "#Mostrar planetas más alejados del sol de que el usario ingreso\n",
    "print('Los planetas más alejados del sol que {}'.format(planeta))\n",
    "print(planets[position_planeta+1:])"
   ]
  }
 ],
 "metadata": {
  "interpreter": {
   "hash": "17f94d3315d6c5ee86cc844ccc448e920d2832751813a55ed687781fb02c9fbc"
  },
  "kernelspec": {
   "display_name": "Python 3.8.5 ('base')",
   "language": "python",
   "name": "python3"
  },
  "language_info": {
   "codemirror_mode": {
    "name": "ipython",
    "version": 3
   },
   "file_extension": ".py",
   "mimetype": "text/x-python",
   "name": "python",
   "nbconvert_exporter": "python",
   "pygments_lexer": "ipython3",
   "version": "3.8.5"
  },
  "orig_nbformat": 4
 },
 "nbformat": 4,
 "nbformat_minor": 2
}
