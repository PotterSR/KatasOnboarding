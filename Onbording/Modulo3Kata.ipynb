{
 "cells": [
  {
   "cell_type": "markdown",
   "metadata": {},
   "source": [
    "# Lógica Booleana"
   ]
  },
  {
   "cell_type": "markdown",
   "metadata": {},
   "source": [
    "#### Problema 1"
   ]
  },
  {
   "cell_type": "code",
   "execution_count": 3,
   "metadata": {},
   "outputs": [
    {
     "name": "stdout",
     "output_type": "stream",
     "text": [
      "¡Alerta! Se acerca un asteroide a una velocidad de 49 km/s.\n"
     ]
    }
   ],
   "source": [
    "speed = 49 \n",
    "\n",
    "if speed > 25:\n",
    "    print(f'¡Alerta! Se acerca un asteroide a una velocidad de {speed} km/s.')\n",
    "else: \n",
    "    print('Todo bien. Sigue con tu día.')"
   ]
  },
  {
   "cell_type": "markdown",
   "metadata": {},
   "source": [
    "#### Problema 2"
   ]
  },
  {
   "cell_type": "code",
   "execution_count": 6,
   "metadata": {},
   "outputs": [
    {
     "name": "stdout",
     "output_type": "stream",
     "text": [
      "Look up! Voltea a ver el cielo hay una Luz\n"
     ]
    }
   ],
   "source": [
    "speed = 21 \n",
    "\n",
    "if speed >= 20: \n",
    "    print('Look up! Voltea a ver el cielo hay una Luz')\n",
    "else: \n",
    "    print('Nada que ver.')"
   ]
  },
  {
   "cell_type": "markdown",
   "metadata": {},
   "source": [
    "#### Problema 3"
   ]
  },
  {
   "cell_type": "code",
   "execution_count": 17,
   "metadata": {},
   "outputs": [
    {
     "name": "stdout",
     "output_type": "stream",
     "text": [
      "Nada que ver aquí.\n"
     ]
    }
   ],
   "source": [
    "size = 100\n",
    "speed = 19\n",
    "\n",
    "if size > 25 and speed >25:\n",
    "    print('Un asteoride muy peligroso se dirige a la tierra.')\n",
    "elif speed >=20:\n",
    "    print('Look up! Voltea a ver el cielo hay una luz. ')\n",
    "else:\n",
    "    print('Nada que ver aquí.')\n"
   ]
  }
 ],
 "metadata": {
  "interpreter": {
   "hash": "17f94d3315d6c5ee86cc844ccc448e920d2832751813a55ed687781fb02c9fbc"
  },
  "kernelspec": {
   "display_name": "Python 3.8.5 ('base')",
   "language": "python",
   "name": "python3"
  },
  "language_info": {
   "codemirror_mode": {
    "name": "ipython",
    "version": 3
   },
   "file_extension": ".py",
   "mimetype": "text/x-python",
   "name": "python",
   "nbconvert_exporter": "python",
   "pygments_lexer": "ipython3",
   "version": "3.8.5"
  },
  "orig_nbformat": 4
 },
 "nbformat": 4,
 "nbformat_minor": 2
}
